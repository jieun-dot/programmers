{
  "nbformat": 4,
  "nbformat_minor": 0,
  "metadata": {
    "colab": {
      "name": "프로그래머스 연습_모의고사.ipynb",
      "provenance": [],
      "collapsed_sections": [],
      "authorship_tag": "ABX9TyN/t3VcrqVwWDP6kxiA7IeY",
      "include_colab_link": true
    },
    "kernelspec": {
      "name": "python3",
      "display_name": "Python 3"
    },
    "language_info": {
      "name": "python"
    }
  },
  "cells": [
    {
      "cell_type": "markdown",
      "metadata": {
        "id": "view-in-github",
        "colab_type": "text"
      },
      "source": [
        "<a href=\"https://colab.research.google.com/github/jieun-dot/programmers/blob/main/%ED%94%84%EB%A1%9C%EA%B7%B8%EB%9E%98%EB%A8%B8%EC%8A%A4_%EC%97%B0%EC%8A%B5_%EB%AA%A8%EC%9D%98%EA%B3%A0%EC%82%AC.ipynb\" target=\"_parent\"><img src=\"https://colab.research.google.com/assets/colab-badge.svg\" alt=\"Open In Colab\"/></a>"
      ]
    },
    {
      "cell_type": "markdown",
      "metadata": {
        "id": "l2u8qltC8PgB"
      },
      "source": [
        "수포자는 수학을 포기한 사람의 준말입니다. 수포자 삼인방은 모의고사에 수학 문제를 전부 찍으려 합니다. 수포자는 1번 문제부터 마지막 문제까지 다음과 같이 찍습니다.\n",
        "\n",
        "1번 수포자가 찍는 방식: 1, 2, 3, 4, 5, 1, 2, 3, 4, 5, ...\n",
        "2번 수포자가 찍는 방식: 2, 1, 2, 3, 2, 4, 2, 5, 2, 1, 2, 3, 2, 4, 2, 5, ...\n",
        "3번 수포자가 찍는 방식: 3, 3, 1, 1, 2, 2, 4, 4, 5, 5, 3, 3, 1, 1, 2, 2, 4, 4, 5, 5, ...\n",
        "\n",
        "1번 문제부터 마지막 문제까지의 정답이 순서대로 들은 배열 answers가 주어졌을 때, 가장 많은 문제를 맞힌 사람이 누구인지 배열에 담아 return 하도록 solution 함수를 작성해주세요."
      ]
    },
    {
      "cell_type": "code",
      "metadata": {
        "id": "XWWLTCG38S64"
      },
      "source": [
        "def solution(answers):\n",
        "    num_1 = [1,2,3,4,5]\n",
        "    num_2 = [2,1,2,3,2,4,2,5]\n",
        "    num_3 = [3,3,1,1,2,2,4,4,5,5]\n",
        "    answer = []\n",
        "    ans_1 = 0\n",
        "    ans_2 = 0\n",
        "    ans_3 = 0\n",
        "    \n",
        "    for i in range(len(answers)):\n",
        "        if answers[i] == num_1[i%5]:\n",
        "            ans_1 +=1\n",
        "        if answers[i] == num_2[i%8]:\n",
        "            ans_2 +=1\n",
        "        if answers[i] == num_3[i%10]:\n",
        "            ans_3 +=1\n",
        "    \n",
        "    ans = max(ans_1,ans_2,ans_3)\n",
        "    if ans_1 == ans:\n",
        "        answer.append(1)\n",
        "    if ans_2 == ans:\n",
        "        answer.append(2)\n",
        "    if ans_3 == ans:\n",
        "        answer.append(3)\n",
        "    \n",
        "    return answer"
      ],
      "execution_count": 6,
      "outputs": []
    },
    {
      "cell_type": "code",
      "metadata": {
        "colab": {
          "base_uri": "https://localhost:8080/"
        },
        "id": "OrRkog-CDGTe",
        "outputId": "52caed74-79df-4668-ae22-c026966dfd76"
      },
      "source": [
        "solution([1,3,2,4,2])"
      ],
      "execution_count": 7,
      "outputs": [
        {
          "output_type": "execute_result",
          "data": {
            "text/plain": [
              "[1, 2, 3]"
            ]
          },
          "metadata": {
            "tags": []
          },
          "execution_count": 7
        }
      ]
    }
  ]
}