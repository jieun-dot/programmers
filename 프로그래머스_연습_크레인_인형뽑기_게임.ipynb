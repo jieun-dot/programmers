{
  "nbformat": 4,
  "nbformat_minor": 0,
  "metadata": {
    "colab": {
      "name": "프로그래머스 연습_크레인 인형뽑기 게임.ipynb",
      "provenance": [],
      "collapsed_sections": [],
      "authorship_tag": "ABX9TyO0Mzw9DyZ1dsGyed3xqAEC",
      "include_colab_link": true
    },
    "kernelspec": {
      "name": "python3",
      "display_name": "Python 3"
    },
    "language_info": {
      "name": "python"
    }
  },
  "cells": [
    {
      "cell_type": "markdown",
      "metadata": {
        "id": "view-in-github",
        "colab_type": "text"
      },
      "source": [
        "<a href=\"https://colab.research.google.com/github/jieun-dot/programmers/blob/main/%ED%94%84%EB%A1%9C%EA%B7%B8%EB%9E%98%EB%A8%B8%EC%8A%A4_%EC%97%B0%EC%8A%B5_%ED%81%AC%EB%A0%88%EC%9D%B8_%EC%9D%B8%ED%98%95%EB%BD%91%EA%B8%B0_%EA%B2%8C%EC%9E%84.ipynb\" target=\"_parent\"><img src=\"https://colab.research.google.com/assets/colab-badge.svg\" alt=\"Open In Colab\"/></a>"
      ]
    },
    {
      "cell_type": "markdown",
      "metadata": {
        "id": "JIOFX5k7CDYj"
      },
      "source": [
        "게임 화면의 격자의 상태가 담긴 2차원 배열 board와 인형을 집기 위해 크레인을 작동시킨 위치가 담긴 배열 moves가 매개변수로 주어질 때, 크레인을 모두 작동시킨 후 터트려져 사라진 인형의 개수를 return 하도록 solution 함수를 완성해주세요."
      ]
    },
    {
      "cell_type": "code",
      "metadata": {
        "id": "Xv8-2xO9TUvK"
      },
      "source": [
        "import numpy as np"
      ],
      "execution_count": null,
      "outputs": []
    },
    {
      "cell_type": "code",
      "metadata": {
        "id": "vpWgzTOvSWqb"
      },
      "source": [
        "ex = [[0,0,0,0,0],[0,1,0,3,0],[4,3,0,1,0],[2,4,1,4,5],[3,5,4,5,5]]\n",
        "m = [2,3]"
      ],
      "execution_count": null,
      "outputs": []
    },
    {
      "cell_type": "code",
      "metadata": {
        "id": "6aqljbaCTG4A"
      },
      "source": [
        "# 프로그래머스 카카오 인턴쉽 인형뽑기 문제\n",
        "def s(board, moves):\n",
        "    answer = 0\n",
        "    arr = np.array(board)\n",
        "    s = arr.shape[0]\n",
        "    for i in moves:\n",
        "        for k in range(s):\n",
        "            r = arr[:,i-1][k]\n",
        "            if r != 0:\n",
        "                d.append(r)\n",
        "                arr[:,i-1][k] = 0\n",
        "                break\n",
        "        if len(d) >= 2 :\n",
        "            if d[-2] == r:\n",
        "                answer += 2\n",
        "                d.pop(-2)\n",
        "                d.pop(-1)           \n",
        "    return answer"
      ],
      "execution_count": null,
      "outputs": []
    },
    {
      "cell_type": "code",
      "metadata": {
        "colab": {
          "base_uri": "https://localhost:8080/"
        },
        "id": "vXHyuxPGZNDB",
        "outputId": "9d323957-f935-417c-a02b-b999d747c83d"
      },
      "source": [
        "s(ex,m)"
      ],
      "execution_count": null,
      "outputs": [
        {
          "output_type": "execute_result",
          "data": {
            "text/plain": [
              "2"
            ]
          },
          "metadata": {
            "tags": []
          },
          "execution_count": 109
        }
      ]
    }
  ]
}