{
  "nbformat": 4,
  "nbformat_minor": 0,
  "metadata": {
    "colab": {
      "name": "프로그래머스 연습_같은 숫자는 싫어.ipynb",
      "provenance": [],
      "collapsed_sections": [],
      "authorship_tag": "ABX9TyPV72HbViKnoPQZ9cgB5EdL",
      "include_colab_link": true
    },
    "kernelspec": {
      "name": "python3",
      "display_name": "Python 3"
    },
    "language_info": {
      "name": "python"
    }
  },
  "cells": [
    {
      "cell_type": "markdown",
      "metadata": {
        "id": "view-in-github",
        "colab_type": "text"
      },
      "source": [
        "<a href=\"https://colab.research.google.com/github/jieun-dot/programmers/blob/main/%ED%94%84%EB%A1%9C%EA%B7%B8%EB%9E%98%EB%A8%B8%EC%8A%A4_%EC%97%B0%EC%8A%B5_%EA%B0%99%EC%9D%80_%EC%88%AB%EC%9E%90%EB%8A%94_%EC%8B%AB%EC%96%B4.ipynb\" target=\"_parent\"><img src=\"https://colab.research.google.com/assets/colab-badge.svg\" alt=\"Open In Colab\"/></a>"
      ]
    },
    {
      "cell_type": "markdown",
      "metadata": {
        "id": "gwY-9lCvDXkA"
      },
      "source": [
        "배열 arr가 주어집니다. 배열 arr의 각 원소는 숫자 0부터 9까지로 이루어져 있습니다. 이때, 배열 arr에서 연속적으로 나타나는 숫자는 하나만 남기고 전부 제거하려고 합니다. 단, 제거된 후 남은 수들을 반환할 때는 배열 arr의 원소들의 순서를 유지해야 합니다. 예를 들면,\n",
        "\n",
        "arr = [1, 1, 3, 3, 0, 1, 1] 이면 [1, 3, 0, 1] 을 return 합니다.\n",
        "arr = [4, 4, 4, 3, 3] 이면 [4, 3] 을 return 합니다.\n",
        "배열 arr에서 연속적으로 나타나는 숫자는 제거하고 남은 수들을 return 하는 solution 함수를 완성해 주세요."
      ]
    },
    {
      "cell_type": "code",
      "metadata": {
        "id": "YIy5xMgp9zk3"
      },
      "source": [
        "# 프로그래머스 연습문제 같은숫자는 싫어\n",
        "def solution(arr):\n",
        "    answer = []\n",
        "    for k in range(len(arr)):\n",
        "        if k == 0:\n",
        "            answer.append(arr[k])\n",
        "        elif k == (len(arr)-1):\n",
        "            if arr[k-1] != arr[k]:\n",
        "                answer.append(arr[k])\n",
        "        else:\n",
        "            if arr[k] != arr[k-1]:\n",
        "                answer.append(arr[k])\n",
        "\n",
        "    return answer"
      ],
      "execution_count": 1,
      "outputs": []
    },
    {
      "cell_type": "code",
      "metadata": {
        "colab": {
          "base_uri": "https://localhost:8080/"
        },
        "id": "gNE9QajkDgmV",
        "outputId": "a9689173-f63f-4516-abb8-fbd815439c97"
      },
      "source": [
        "solution([1,1,3,3,0,1,1])"
      ],
      "execution_count": 2,
      "outputs": [
        {
          "output_type": "execute_result",
          "data": {
            "text/plain": [
              "[1, 3, 0, 1]"
            ]
          },
          "metadata": {
            "tags": []
          },
          "execution_count": 2
        }
      ]
    }
  ]
}