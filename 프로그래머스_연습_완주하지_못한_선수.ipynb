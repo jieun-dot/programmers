{
  "nbformat": 4,
  "nbformat_minor": 0,
  "metadata": {
    "colab": {
      "name": "프로그래머스 연습_완주하지 못한 선수.ipynb",
      "provenance": [],
      "collapsed_sections": [],
      "authorship_tag": "ABX9TyMbvrARWfwgc7raYoRRJQmL",
      "include_colab_link": true
    },
    "kernelspec": {
      "name": "python3",
      "display_name": "Python 3"
    },
    "language_info": {
      "name": "python"
    }
  },
  "cells": [
    {
      "cell_type": "markdown",
      "metadata": {
        "id": "view-in-github",
        "colab_type": "text"
      },
      "source": [
        "<a href=\"https://colab.research.google.com/github/jieun-dot/programmers/blob/main/%ED%94%84%EB%A1%9C%EA%B7%B8%EB%9E%98%EB%A8%B8%EC%8A%A4_%EC%97%B0%EC%8A%B5_%EC%99%84%EC%A3%BC%ED%95%98%EC%A7%80_%EB%AA%BB%ED%95%9C_%EC%84%A0%EC%88%98.ipynb\" target=\"_parent\"><img src=\"https://colab.research.google.com/assets/colab-badge.svg\" alt=\"Open In Colab\"/></a>"
      ]
    },
    {
      "cell_type": "markdown",
      "metadata": {
        "id": "6SEKs3MCCo8_"
      },
      "source": [
        "수많은 마라톤 선수들이 마라톤에 참여하였습니다. 단 한 명의 선수를 제외하고는 모든 선수가 마라톤을 완주하였습니다.\n",
        "\n",
        "마라톤에 참여한 선수들의 이름이 담긴 배열 participant와 완주한 선수들의 이름이 담긴 배열 completion이 주어질 때, 완주하지 못한 선수의 이름을 return 하도록 solution 함수를 작성해주세요."
      ]
    },
    {
      "cell_type": "code",
      "metadata": {
        "id": "JacDjgtaEzhO"
      },
      "source": [
        "# 프로그래머스 연습문제 완주하지 못한 선수\n",
        "def solution(participant, completion):\n",
        "    p = set(participant)\n",
        "    c = set(completion)\n",
        "    p_count = {}\n",
        "    c_count = {}\n",
        "\n",
        "    if len(p-c) != 0:\n",
        "        answer = list(p-c)[-1]\n",
        "    else:\n",
        "        for person in participant:\n",
        "            if person in p_count:\n",
        "                p_count[person] = p_count[person] + 1\n",
        "            else:\n",
        "                p_count[person] = 1\n",
        "        for person in completion:\n",
        "            if person in c_count:\n",
        "                c_count[person] = c_count[person] + 1\n",
        "            else:\n",
        "                c_count[person] = 1\n",
        "        for key in p_count:\n",
        "            if p_count[key] != c_count[key]:\n",
        "                answer = key\n",
        "    return answer"
      ],
      "execution_count": null,
      "outputs": []
    },
    {
      "cell_type": "code",
      "metadata": {
        "id": "grUcsTbbE7gf"
      },
      "source": [
        "def solution(participant, completion):\n",
        "    for i in range(len(participant)):\n",
        "        if participant[i] not in completion:\n",
        "            answer = participant[i]\n",
        "        else:\n",
        "            completion.remove(participant[i])\n",
        "    return answer"
      ],
      "execution_count": 1,
      "outputs": []
    },
    {
      "cell_type": "code",
      "metadata": {
        "id": "dKdEwzH_E-E3"
      },
      "source": [
        "def solution(participant, completion):\n",
        "    answer = [i for i in participant if not i in completion or completion.remove(i)]\n",
        "    return answer"
      ],
      "execution_count": null,
      "outputs": []
    },
    {
      "cell_type": "code",
      "metadata": {
        "colab": {
          "base_uri": "https://localhost:8080/",
          "height": 36
        },
        "id": "h3CWXukYCuIw",
        "outputId": "6e8a79b5-b6e4-4a86-b3b4-a70115d32c4b"
      },
      "source": [
        "solution([\"leo\", \"kiki\", \"eden\"],[\"eden\", \"kiki\"])"
      ],
      "execution_count": 2,
      "outputs": [
        {
          "output_type": "execute_result",
          "data": {
            "application/vnd.google.colaboratory.intrinsic+json": {
              "type": "string"
            },
            "text/plain": [
              "'leo'"
            ]
          },
          "metadata": {
            "tags": []
          },
          "execution_count": 2
        }
      ]
    }
  ]
}